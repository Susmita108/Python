{
 "cells": [
  {
   "cell_type": "markdown",
   "id": "f9cc062a-56d0-4750-b6d6-dd3769b5aa10",
   "metadata": {},
   "source": [
    "1. Write a Python program to print the numbers from 1 to 10 using a `for` loop."
   ]
  },
  {
   "cell_type": "code",
   "execution_count": 17,
   "id": "67f50c5a-4e88-47c5-be47-77d0c20bc3a8",
   "metadata": {},
   "outputs": [
    {
     "name": "stdout",
     "output_type": "stream",
     "text": [
      "1 2 3 4 5 6 7 8 9 10 "
     ]
    }
   ],
   "source": [
    "for i in range(1,11) :\n",
    "    print(i, end = ' ')"
   ]
  },
  {
   "cell_type": "markdown",
   "id": "d645b755-2f3f-48b4-ae55-77caf0f3936e",
   "metadata": {},
   "source": [
    "2. Create a program that calculates the sum of all numbers in a list using a `for` loop."
   ]
  },
  {
   "cell_type": "code",
   "execution_count": 18,
   "id": "a769863c-a78e-4d9e-8ce9-225a2f19fdb9",
   "metadata": {},
   "outputs": [
    {
     "name": "stdout",
     "output_type": "stream",
     "text": [
      "sum of numbers present in the list l:  10\n"
     ]
    }
   ],
   "source": [
    "l :list = [1,2,3,4]\n",
    "l1 = 0\n",
    "for i in l:\n",
    "    l1 = l1 +i\n",
    "print('sum of numbers present in the list l: ',l1)"
   ]
  },
  {
   "cell_type": "markdown",
   "id": "19b0b9eb-3d63-4842-9b7a-3f9447afcf88",
   "metadata": {},
   "source": [
    "3. Write a program to print the characters of a string in reverse order using a `for` loop."
   ]
  },
  {
   "cell_type": "code",
   "execution_count": 19,
   "id": "d8f9964c-26ce-4929-8b35-8144b4d2a43e",
   "metadata": {},
   "outputs": [
    {
     "name": "stdout",
     "output_type": "stream",
     "text": [
      "atimsus\n"
     ]
    }
   ],
   "source": [
    "s :str = 'susmita'\n",
    "l = ''\n",
    "for i in s:                                   \n",
    "    l = i + l\n",
    "print(l)"
   ]
  },
  {
   "cell_type": "markdown",
   "id": "d705f1e7-6813-46a6-98a9-f6fea4b4b280",
   "metadata": {},
   "source": [
    "4. Develop a program that finds the factorial of a given number using a `for` loop"
   ]
  },
  {
   "cell_type": "code",
   "execution_count": 21,
   "id": "1b51480d-5bfb-4e3b-8b15-6e722b7202e2",
   "metadata": {},
   "outputs": [
    {
     "name": "stdin",
     "output_type": "stream",
     "text": [
      "Enter the no.  6\n"
     ]
    },
    {
     "name": "stdout",
     "output_type": "stream",
     "text": [
      "factorial of 6 is 720\n"
     ]
    }
   ],
   "source": [
    "n = int(input('Enter the no. '))\n",
    "l = 1\n",
    "for i in range (1,n+1):\n",
    "        l = l*i\n",
    "print(f'factorial of {n} is',l)"
   ]
  },
  {
   "cell_type": "markdown",
   "id": "4551d170-d1a6-4d77-b889-2404037a767e",
   "metadata": {},
   "source": [
    "5.Create a program to print the multiplication table of a given number using a `for` loop."
   ]
  },
  {
   "cell_type": "code",
   "execution_count": 22,
   "id": "992c174b-2320-4ef7-9d7c-3dd70d2eeaed",
   "metadata": {},
   "outputs": [
    {
     "name": "stdin",
     "output_type": "stream",
     "text": [
      "Enter the no.  6\n"
     ]
    },
    {
     "name": "stdout",
     "output_type": "stream",
     "text": [
      "multiplication table of 6 is\n",
      "6*1 = 6\n",
      "6*2 = 12\n",
      "6*3 = 18\n",
      "6*4 = 24\n",
      "6*5 = 30\n",
      "6*6 = 36\n",
      "6*7 = 42\n",
      "6*8 = 48\n",
      "6*9 = 54\n",
      "6*10 = 60\n"
     ]
    }
   ],
   "source": [
    "n = int(input('Enter the no. '))\n",
    "print(f'multiplication table of {n} is')\n",
    "for i in range (1,11):\n",
    "        l = n*i\n",
    "        print(f'{n}*{i} =',l)"
   ]
  },
  {
   "cell_type": "markdown",
   "id": "ba4db9c7-8c66-48b6-908d-2062fcc3366e",
   "metadata": {},
   "source": [
    "6. Write a program that counts the number of even and odd numbers in a list using a `for` loop."
   ]
  },
  {
   "cell_type": "code",
   "execution_count": 23,
   "id": "c6a35616-552a-43eb-a8ae-fbcfeb9792b0",
   "metadata": {},
   "outputs": [
    {
     "name": "stdout",
     "output_type": "stream",
     "text": [
      "even no. present in the list l is  5\n",
      "odd no. present in the list l is  6\n"
     ]
    }
   ],
   "source": [
    "l :list = [1,2,3,4,5,6,7,8,9,10,11]\n",
    "l1 = []\n",
    "l2 = []\n",
    "for i in l:\n",
    "    if i%2 == 0:\n",
    "        l1.append(i)\n",
    "    else :\n",
    "        l2.append(i)\n",
    "print('even no. present in the list l is ', len(l1))\n",
    "print('odd no. present in the list l is ', len(l2))\n",
    "        \n",
    "        "
   ]
  },
  {
   "cell_type": "markdown",
   "id": "38a1285f-2489-4e73-8bb9-05c1dc33a41c",
   "metadata": {},
   "source": [
    "7. Develop a program that prints the squares of numbers from 1 to 5 using a `for` loop."
   ]
  },
  {
   "cell_type": "code",
   "execution_count": 24,
   "id": "a2e9a24c-ded8-438c-ba8e-580cd8eae3d6",
   "metadata": {},
   "outputs": [
    {
     "name": "stdout",
     "output_type": "stream",
     "text": [
      "the squares of numbers from 1 to 5 is 1 4 9 16 25 "
     ]
    }
   ],
   "source": [
    "l = [1,2,3,4,5]\n",
    "print('the squares of numbers from 1 to 5 is', end = ' ')\n",
    "for i in l:\n",
    "    print(i*i, end =' ')"
   ]
  },
  {
   "cell_type": "markdown",
   "id": "55e130ad-73b1-4dc2-8301-da8f31a34f70",
   "metadata": {},
   "source": [
    "8.Create a program to find the length of a string without using the `len()` function."
   ]
  },
  {
   "cell_type": "code",
   "execution_count": 25,
   "id": "a704534f-7286-4c95-8ba1-1e5f49417c04",
   "metadata": {},
   "outputs": [
    {
     "name": "stdin",
     "output_type": "stream",
     "text": [
      "Enter a string : India\n"
     ]
    },
    {
     "name": "stdout",
     "output_type": "stream",
     "text": [
      "length of given string is 5\n"
     ]
    }
   ],
   "source": [
    "s = input('Enter a string :')\n",
    "count = 0\n",
    "for i in s :\n",
    "    count += 1\n",
    "print('length of given string is',count)"
   ]
  },
  {
   "cell_type": "markdown",
   "id": "8bf23705-01fb-4ead-938c-9fdb3ccd51f2",
   "metadata": {},
   "source": [
    "9. Write a program that calculates the average of a list of numbers using a `for` loop."
   ]
  },
  {
   "cell_type": "code",
   "execution_count": 26,
   "id": "63aa1ad1-7d85-4180-b17c-4e42da921312",
   "metadata": {},
   "outputs": [
    {
     "name": "stdout",
     "output_type": "stream",
     "text": [
      "2.5\n"
     ]
    }
   ],
   "source": [
    "l :list = [1,2,3,4]\n",
    "l1 = 0\n",
    "for i in l:\n",
    "    l1 = l1 +i\n",
    "l2 = len(l)\n",
    "print(l1/l2)"
   ]
  },
  {
   "cell_type": "markdown",
   "id": "54f43ea5-3445-41f4-822a-9bcb56f3609e",
   "metadata": {},
   "source": [
    "10. Develop a program that prints the first `n` Fibonacci numbers using a `for` loop."
   ]
  },
  {
   "cell_type": "code",
   "execution_count": 28,
   "id": "7370036a-a2f4-40d1-af55-6feba62ce5b3",
   "metadata": {},
   "outputs": [
    {
     "name": "stdin",
     "output_type": "stream",
     "text": [
      "Enter the number of terms:  7\n"
     ]
    },
    {
     "name": "stdout",
     "output_type": "stream",
     "text": [
      "0 1 1 2 3 5 8 "
     ]
    }
   ],
   "source": [
    "n=int(input(\"Enter the number of terms: \"))\n",
    "a=0 \n",
    "b=1 \n",
    "if n<=0:\n",
    "    print(\"The Output  is\",a)\n",
    "else:\n",
    "    print(a,b,end=\" \")\n",
    "    for i in range(2,n):\n",
    "        c=a+b\n",
    "        print(c,end=\" \")\n",
    "        a=b\n",
    "        b=c\n"
   ]
  }
 ],
 "metadata": {
  "kernelspec": {
   "display_name": "Python 3 (ipykernel)",
   "language": "python",
   "name": "python3"
  },
  "language_info": {
   "codemirror_mode": {
    "name": "ipython",
    "version": 3
   },
   "file_extension": ".py",
   "mimetype": "text/x-python",
   "name": "python",
   "nbconvert_exporter": "python",
   "pygments_lexer": "ipython3",
   "version": "3.11.5"
  }
 },
 "nbformat": 4,
 "nbformat_minor": 5
}
