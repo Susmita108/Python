{
 "cells": [
  {
   "cell_type": "markdown",
   "id": "e4c429ad-7d3d-417e-bbfb-59a4b08da263",
   "metadata": {},
   "source": [
    "1. Declare two variables, `x` and `y`, and assign them integer values. Swap the\n",
    "values of these variables without using any temporary variable."
   ]
  },
  {
   "cell_type": "code",
   "execution_count": 6,
   "id": "9bd00e11-7d1b-4cb2-9da2-907d313ec919",
   "metadata": {},
   "outputs": [
    {
     "name": "stdout",
     "output_type": "stream",
     "text": [
      "value of x is 20\n",
      "value of y is 10\n"
     ]
    }
   ],
   "source": [
    "x = 10\n",
    "y = 20\n",
    "x,y = y,x\n",
    "print('value of x is',x)\n",
    "print('value of y is',y)"
   ]
  },
  {
   "cell_type": "markdown",
   "id": "1da6d9fa-5ac5-4f47-a3f4-0faf889f6933",
   "metadata": {},
   "source": [
    "2. Create a program that calculates the area of a rectangle. Take the length and\n",
    "width as inputs from the user and store them in variables. Calculate and\n",
    "display the area."
   ]
  },
  {
   "cell_type": "code",
   "execution_count": 10,
   "id": "92369d30-fc8f-4f26-9eed-74ad8cb76164",
   "metadata": {},
   "outputs": [
    {
     "name": "stdin",
     "output_type": "stream",
     "text": [
      "enter the value of length:  20\n",
      "enter the value of breadth:  10\n"
     ]
    },
    {
     "name": "stdout",
     "output_type": "stream",
     "text": [
      "area of rectangale is 200\n"
     ]
    }
   ],
   "source": [
    "l = int(input('enter the value of length: '))\n",
    "b = int(input('enter the value of breadth: '))\n",
    "area = (l * b)\n",
    "print('area of rectangale is',area)\n"
   ]
  },
  {
   "cell_type": "markdown",
   "id": "97c9eec4-a36f-4655-981a-5827db0ff3e7",
   "metadata": {},
   "source": [
    "3. Write a Python program that converts temperatures from Celsius to\n",
    "Fahrenheit. Take the temperature in Celsius as input, store it in a variable,\n",
    "convert it to Fahrenheit, and display the result."
   ]
  },
  {
   "cell_type": "code",
   "execution_count": 16,
   "id": "bbaebdd1-0b6c-49d6-8d82-2cfe85bbd135",
   "metadata": {},
   "outputs": [
    {
     "name": "stdin",
     "output_type": "stream",
     "text": [
      "Enter the temperature in celcius:  37\n"
     ]
    },
    {
     "name": "stdout",
     "output_type": "stream",
     "text": [
      "The farenheight temperature of 37 degree celcius is 98.6 degree farenheight\n"
     ]
    }
   ],
   "source": [
    "c = int(input('Enter the temperature in celcius: '))\n",
    "f = (9*c /5)+32            # C/5 =(F-32)/9\n",
    "print(f'The farenheight temperature of {c} degree celcius is',f,'degree farenheight')"
   ]
  },
  {
   "cell_type": "markdown",
   "id": "688dc710-9257-43c8-9034-ec01a72b307a",
   "metadata": {},
   "source": [
    "4. Write a Python program that takes a string as input and prints the length of\n",
    "the string"
   ]
  },
  {
   "cell_type": "code",
   "execution_count": 17,
   "id": "7784d6e6-9edd-497e-9fac-587f1656f851",
   "metadata": {},
   "outputs": [
    {
     "name": "stdin",
     "output_type": "stream",
     "text": [
      "Enter a string:  susmita\n"
     ]
    },
    {
     "name": "stdout",
     "output_type": "stream",
     "text": [
      "length of susmita is 7\n"
     ]
    }
   ],
   "source": [
    "string :str = input('Enter a string: ')\n",
    "print(f'length of {string} is',len(string))"
   ]
  },
  {
   "cell_type": "markdown",
   "id": "815e3fe7-0d1e-4a9b-aefb-ea52ba19e5d1",
   "metadata": {},
   "source": [
    "5. Create a program that takes a sentence from the user and counts the number\n",
    "of vowels (a, e, i, o, u) in the string."
   ]
  },
  {
   "cell_type": "code",
   "execution_count": 5,
   "id": "adaf6324-6ffe-47da-8b0d-08f958317111",
   "metadata": {},
   "outputs": [
    {
     "name": "stdin",
     "output_type": "stream",
     "text": [
      "Enter a sentence:  I am a student\n"
     ]
    },
    {
     "name": "stdout",
     "output_type": "stream",
     "text": [
      "5\n"
     ]
    }
   ],
   "source": [
    "sen :str = input('Enter a sentence: ')\n",
    "sen = sen.lower()\n",
    "l = ['a','e','i','o','u']\n",
    "l1 = []\n",
    "for i in sen :\n",
    "    for w in l :\n",
    "        if i == w :\n",
    "            l1.append(i)\n",
    "print(len(l1))\n",
    "     \n",
    "    "
   ]
  },
  {
   "cell_type": "markdown",
   "id": "900a4967-8f3c-471a-93f4-8cc1ea0d0b10",
   "metadata": {},
   "source": [
    "6. Given a string, reverse the order of characters using string slicing and print\n",
    "the reversed string"
   ]
  },
  {
   "cell_type": "code",
   "execution_count": 10,
   "id": "543e4e64-f0c0-45c4-bd5a-1880832bac1c",
   "metadata": {},
   "outputs": [
    {
     "name": "stdin",
     "output_type": "stream",
     "text": [
      "Enter a string:  susmita\n"
     ]
    },
    {
     "name": "stdout",
     "output_type": "stream",
     "text": [
      "reverse of the string \"susmita\" is atimsus\n"
     ]
    }
   ],
   "source": [
    "s :str = input('Enter a string: ')\n",
    "l = s[ ::-1]\n",
    "print(f'reverse of the string \"{s}\" is', l)"
   ]
  },
  {
   "cell_type": "markdown",
   "id": "073a7799-cc79-4c3f-a99a-6d36e14285fb",
   "metadata": {},
   "source": [
    "7. Write a program that takes a string as input and checks if it is a palindrome\n",
    "(reads the same forwards and backwards)."
   ]
  },
  {
   "cell_type": "code",
   "execution_count": 14,
   "id": "18aa5d12-4e4a-46bd-a3cd-64e001e0c45b",
   "metadata": {},
   "outputs": [
    {
     "name": "stdin",
     "output_type": "stream",
     "text": [
      "Enter a string:  refer\n"
     ]
    },
    {
     "name": "stdout",
     "output_type": "stream",
     "text": [
      "refer is a palindrome\n"
     ]
    }
   ],
   "source": [
    "s :str = input('Enter a string: ')\n",
    "s = s.lower()\n",
    "l = s[ ::-1]\n",
    "\n",
    "if s == l :\n",
    "    print(f'{s} is a palindrome')\n",
    "else :\n",
    "     print(f'{s} is not a palindrome')\n",
    "        "
   ]
  },
  {
   "cell_type": "markdown",
   "id": "035dffd7-2a3c-4667-8250-3694522c5e17",
   "metadata": {},
   "source": [
    "8. Create a program that takes a string as input and removes all the spaces from\n",
    "it. Print the modified string without spaces."
   ]
  },
  {
   "cell_type": "code",
   "execution_count": 26,
   "id": "1aa0dc53-5078-477c-95e2-97741af45f25",
   "metadata": {},
   "outputs": [
    {
     "name": "stdin",
     "output_type": "stream",
     "text": [
      "Enter a string:  I am\n"
     ]
    },
    {
     "name": "stdout",
     "output_type": "stream",
     "text": [
      "Iam"
     ]
    }
   ],
   "source": [
    "s :str = input('Enter a string: ')\n",
    "for i in s:\n",
    "    if i !=' ':\n",
    "        print(i, end = '')\n",
    "    \n",
    "        \n"
   ]
  },
  {
   "cell_type": "code",
   "execution_count": null,
   "id": "a03d926f-471a-4adb-8de8-343a5c3d5c77",
   "metadata": {},
   "outputs": [],
   "source": []
  }
 ],
 "metadata": {
  "kernelspec": {
   "display_name": "Python 3 (ipykernel)",
   "language": "python",
   "name": "python3"
  },
  "language_info": {
   "codemirror_mode": {
    "name": "ipython",
    "version": 3
   },
   "file_extension": ".py",
   "mimetype": "text/x-python",
   "name": "python",
   "nbconvert_exporter": "python",
   "pygments_lexer": "ipython3",
   "version": "3.11.5"
  }
 },
 "nbformat": 4,
 "nbformat_minor": 5
}
