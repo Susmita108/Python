{
 "cells": [
  {
   "cell_type": "markdown",
   "id": "31d0fbe0-33e9-484d-867a-eac914efd9b7",
   "metadata": {},
   "source": [
    "**1. What is Numpy and how is it different from Python List?**\n",
    "\n",
    "Numpy is a library for the Python programming language, adding support for large, multi-dimensional arrays and matrices, along with a large collection of high-level mathematical functions to operate on these arrays.\n",
    "\n",
    "Advantages of using Numpy Arrays Over Python Lists:\n",
    "\n",
    "    Consumes less memory.\n",
    "    Fast as compared to the python List.\n",
    "    Convenient to use.\n",
    "#NumPy arrays store elements of the same data type, making them more compact and memory-efficient than lists.\n",
    "\n",
    "#Lists can hold different data types, but this can decrease memory efficiency and slow numerical operations."
   ]
  },
  {
   "cell_type": "markdown",
   "id": "9170c0c6-dcf3-4481-84c4-1252c32e09f9",
   "metadata": {},
   "source": [
    "**2.How do you create a Numpy array?**\n",
    "\n",
    "A Numpy array is a data structure that stores multiple values of the same type in a single variable.\n",
    "To create a NumPy array, We use the function np.array() . "
   ]
  },
  {
   "cell_type": "code",
   "execution_count": 12,
   "id": "1b2751a0-5bc0-4ee9-82b3-a3eb4910af38",
   "metadata": {},
   "outputs": [
    {
     "name": "stdout",
     "output_type": "stream",
     "text": [
      "[1 2 3]\n",
      "[[1 2 3]\n",
      " [4 5 6]]\n",
      "[[[ 1  2  3]\n",
      "  [ 4  5  6]]\n",
      "\n",
      " [[ 7  8  9]\n",
      "  [10 11 12]]]\n"
     ]
    }
   ],
   "source": [
    "import numpy as np\n",
    "\n",
    "a = np.array([1,2,3])  # Create a 1D array\n",
    "b = np.array([[1,2,3], [4,5,6]])    # Create a 2D array\n",
    "c = np.array([[[1,2,3] , [4,5,6]],[[7,8,9] , [10,11,12]]])   #create a 3D array\n",
    "print(a)\n",
    "print(b)\n",
    "print(c)"
   ]
  },
  {
   "cell_type": "markdown",
   "id": "04ac8edf-7c20-4ee4-8592-987c38b51229",
   "metadata": {},
   "source": [
    "**3.Explain the concept of broadcasting in numpy array**\n",
    "\n",
    "Broadcasting happened because of miss match in array Dimension.\n",
    "Broadcasting is a term that describes how NumPy handles arithmetic operations between arrays with different shapes. It allows you to perform element-wise operations without explicitly looping over the arrays. For example, you can multiply a scalar value by an array, or add two arrays of different sizes, as long as they are compatible for broadcasting.\n",
    "the smaller array is broadcast across the larger array so that they have compatible shapes. "
   ]
  },
  {
   "cell_type": "code",
   "execution_count": 13,
   "id": "3327cd71-d190-4b6b-88e6-3226fb3cc1ff",
   "metadata": {},
   "outputs": [
    {
     "name": "stdout",
     "output_type": "stream",
     "text": [
      "[12 13 14]\n"
     ]
    }
   ],
   "source": [
    "a = np.array([2,3,4])\n",
    "b = 10\n",
    "print(a+b)"
   ]
  },
  {
   "cell_type": "markdown",
   "id": "dd8c6f05-f8a7-4b6f-a293-1ec0bb4ce88c",
   "metadata": {},
   "source": [
    "**4. How do you perform element wise addition of two numpy arrays**\n",
    "\n",
    "To perform element-wise addition of two numpy arrays in Python, We use the numpy.add() function or the + operator. Both methods return a new numpy array with the result of the addition. The two arrays must have the same shape or be broadcastable to a common shape."
   ]
  },
  {
   "cell_type": "code",
   "execution_count": 14,
   "id": "a24a2185-cb76-4ae4-9534-0f174a7eee44",
   "metadata": {},
   "outputs": [
    {
     "name": "stdout",
     "output_type": "stream",
     "text": [
      "[11 22 33]\n"
     ]
    }
   ],
   "source": [
    "a = np.array([1,2,3])\n",
    "b = np.array([10,20,30])\n",
    "c = np.add(a,b)\n",
    "print(c)"
   ]
  },
  {
   "cell_type": "markdown",
   "id": "26c0a976-298d-4e18-9410-d849ee539668",
   "metadata": {},
   "source": [
    "**5. How do you reshape a numpy array?**\n",
    "\n",
    "NOTE --> Reshaping data in numpy with (-1,1) means that we want to reshape an array into a new array with one column and as many rows as needed to preserve the number of elements.\n",
    "we can also use (1,-1) to convert a 1D array into a 2D row vector."
   ]
  },
  {
   "cell_type": "code",
   "execution_count": 15,
   "id": "43b11bf6-cfda-4c14-b9a4-6e0c43005c18",
   "metadata": {},
   "outputs": [
    {
     "name": "stdout",
     "output_type": "stream",
     "text": [
      "[[1 2 3]\n",
      " [4 5 6]]\n"
     ]
    }
   ],
   "source": [
    "array = np.array([1, 2, 3, 4, 5, 6])\n",
    "# reshape to 2 rows and 3 columns\n",
    "reshaped = array.reshape(2, 3)\n",
    "print(reshaped)"
   ]
  },
  {
   "cell_type": "code",
   "execution_count": 16,
   "id": "e5f7ae8f-6515-40e4-ac34-fb70b8dbb28a",
   "metadata": {},
   "outputs": [
    {
     "name": "stdout",
     "output_type": "stream",
     "text": [
      "[[1 2]\n",
      " [3 4]\n",
      " [5 6]]\n"
     ]
    }
   ],
   "source": [
    "#We can also use -1 as one of the dimensions to let numpy infer the value from the other dimensions\n",
    "reshaped = array.reshape(3, -1)\n",
    "print(reshaped)"
   ]
  },
  {
   "cell_type": "code",
   "execution_count": 17,
   "id": "5f681e18-6173-4a7d-bb01-06f733537f18",
   "metadata": {},
   "outputs": [
    {
     "name": "stdout",
     "output_type": "stream",
     "text": [
      "[[1 2 3]\n",
      " [4 5 6]]\n"
     ]
    }
   ],
   "source": [
    "reshaped = array.reshape(2, -1)\n",
    "print(reshaped)"
   ]
  },
  {
   "cell_type": "markdown",
   "id": "9383c2cd-76b8-4178-983a-9c4cf579b47b",
   "metadata": {},
   "source": [
    "**6. what is the difference b/w np.dot and np.matmul in numpy**\n",
    "\n",
    "i)numpy.matmul() supports multiplication by scalars but numpy.dot() doesn’t.\n",
    "\n",
    "ii) they treat N-D array in different ways\n"
   ]
  },
  {
   "cell_type": "markdown",
   "id": "ae774b5a-6ea4-46f6-a8af-bf5b4e058843",
   "metadata": {},
   "source": [
    "NOTE--> Both of numpy.multiply() and * multiply numpy.ndarray arguments element-wise.\n",
    "However, in the case of numpy.matrix objects, numpy.multiply() does element-wise multiplication but * does conventional matrix multiplication."
   ]
  },
  {
   "cell_type": "markdown",
   "id": "5e00f775-3809-490c-b6a5-8b993cae47c1",
   "metadata": {},
   "source": [
    "**np.dot()**\n",
    "\n",
    "If both a and b are 1-D arrays, it is inner product of vectors (without complex conjugation).\n",
    "\n",
    "If both a and b are 2-D arrays, it is matrix multiplication, but using matmul or a @ b is preferred.\n",
    "\n",
    "If either a or b is 0-D (scalar), it is equivalent to multiply and using numpy.multiply(a, b) or a * b is preferred."
   ]
  },
  {
   "cell_type": "code",
   "execution_count": null,
   "id": "2d33e3da-2849-4126-9317-443a296bf33d",
   "metadata": {},
   "outputs": [],
   "source": []
  },
  {
   "cell_type": "markdown",
   "id": "ee7b5abb-452d-4c15-aa41-2684dd7d3bc6",
   "metadata": {},
   "source": [
    "**7. How can you find maximum and minimum values in numpy array?**\n"
   ]
  },
  {
   "cell_type": "code",
   "execution_count": 19,
   "id": "e0424a39-903b-4d46-b831-06e6d9a6c703",
   "metadata": {},
   "outputs": [
    {
     "name": "stdout",
     "output_type": "stream",
     "text": [
      "81\n",
      "2\n",
      "[11 81 22]\n",
      "[2 4 7]\n"
     ]
    }
   ],
   "source": [
    "arr = np.array ( [ [11, 2, 3], [4, 5, 16], [7, 81, 22]])\n",
    "print(np.max(arr))  # max element in the whole array\n",
    "\n",
    "print(np.min(arr))   ## min element in the whole array\n",
    "print(np.max(arr, axis=0)) # maximum elements in the columns of the array \n",
    "print(np.min(arr, axis=1)) #minimum elements in the rows of the array\n",
    "\n"
   ]
  },
  {
   "cell_type": "code",
   "execution_count": 22,
   "id": "69bd584c-9216-4fb5-9d76-5d6cd2efb688",
   "metadata": {},
   "outputs": [
    {
     "name": "stdout",
     "output_type": "stream",
     "text": [
      "[ 5  7  6  9 22]\n"
     ]
    }
   ],
   "source": [
    "# creating two single dimensional array\n",
    "a = np.array([1, 4, 6, 8, 9])\n",
    "b = np.array([5, 7, 3, 9, 22])\n",
    " \n",
    "# print maximum value\n",
    "print(np.maximum(a, b))\n",
    "\n",
    "#list containing maximum values from each column."
   ]
  },
  {
   "cell_type": "markdown",
   "id": "da02e1c4-91f1-4804-8cc5-b03e9d0727cf",
   "metadata": {},
   "source": [
    "**8. Explain the use of Numpy's Random module for generating random numbers**\n",
    "\n",
    "Numpy’s Random module is a collection of functions that can generate random numbers from various probability distributions. Random numbers are useful for many applications data analysis, and machine learning.\n",
    "\n",
    "Random number does NOT mean a different number every time. Random means something that can not be predicted logically."
   ]
  },
  {
   "cell_type": "code",
   "execution_count": 23,
   "id": "5819e970-7336-4b43-b965-96ea95bf0320",
   "metadata": {},
   "outputs": [
    {
     "name": "stdout",
     "output_type": "stream",
     "text": [
      "95\n"
     ]
    }
   ],
   "source": [
    "#Generate a random integer from 0 to 100:\n",
    "\n",
    "from numpy import random\n",
    "x = random.randint(100)\n",
    "print(x)"
   ]
  },
  {
   "cell_type": "code",
   "execution_count": 24,
   "id": "548a290b-a759-4dc4-be24-ea4f7c04c18c",
   "metadata": {},
   "outputs": [
    {
     "name": "stdout",
     "output_type": "stream",
     "text": [
      "0.8425774372730614\n"
     ]
    }
   ],
   "source": [
    "# Generate a random float from 0 to 1:\n",
    "y = random.rand()\n",
    "print(y)"
   ]
  },
  {
   "cell_type": "code",
   "execution_count": 31,
   "id": "4356a9b8-cf19-4d7a-9271-5d55d487b535",
   "metadata": {},
   "outputs": [
    {
     "name": "stdout",
     "output_type": "stream",
     "text": [
      "[60 80 12 90 68]\n"
     ]
    }
   ],
   "source": [
    "# enerate a 1-D array containing 5 random integers from 0 to 100:\n",
    "from numpy import random\n",
    "x = random.randint(100, size = (5))     #size parameter to specify the shape of the array.\n",
    "print(x)"
   ]
  },
  {
   "cell_type": "code",
   "execution_count": 30,
   "id": "1c96d5c3-00dd-44a1-898a-18f6ac329a4e",
   "metadata": {},
   "outputs": [
    {
     "name": "stdout",
     "output_type": "stream",
     "text": [
      "[[73 90 34 55 44]\n",
      " [44 97  3 85 26]]\n"
     ]
    }
   ],
   "source": [
    "# Generate a 2-D array with 2 rows, each row containing 5 random integers from 0 to 100:\n",
    "\n",
    "from numpy import random\n",
    "z = random.randint(100, size = (2,5))\n",
    "print(z)"
   ]
  },
  {
   "cell_type": "code",
   "execution_count": null,
   "id": "0b946976-ef3b-47ed-a1b3-c1d2be3dbf73",
   "metadata": {},
   "outputs": [],
   "source": []
  }
 ],
 "metadata": {
  "kernelspec": {
   "display_name": "Python 3 (ipykernel)",
   "language": "python",
   "name": "python3"
  },
  "language_info": {
   "codemirror_mode": {
    "name": "ipython",
    "version": 3
   },
   "file_extension": ".py",
   "mimetype": "text/x-python",
   "name": "python",
   "nbconvert_exporter": "python",
   "pygments_lexer": "ipython3",
   "version": "3.11.5"
  }
 },
 "nbformat": 4,
 "nbformat_minor": 5
}
